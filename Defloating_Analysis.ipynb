{
  "nbformat": 4,
  "nbformat_minor": 0,
  "metadata": {
    "colab": {
      "name": "Defloating Analysis",
      "provenance": [],
      "collapsed_sections": [],
      "toc_visible": true,
      "include_colab_link": true
    },
    "kernelspec": {
      "display_name": "Python 3",
      "language": "python",
      "name": "python3"
    },
    "language_info": {
      "codemirror_mode": {
        "name": "ipython",
        "version": 3
      },
      "file_extension": ".py",
      "mimetype": "text/x-python",
      "name": "python",
      "nbconvert_exporter": "python",
      "pygments_lexer": "ipython3",
      "version": "3.7.6"
    },
    "papermill": {
      "duration": 730.12218,
      "end_time": "2021-01-06T22:34:27.232911",
      "environment_variables": {},
      "exception": null,
      "input_path": "__notebook__.ipynb",
      "output_path": "__notebook__.ipynb",
      "parameters": {},
      "start_time": "2021-01-06T22:22:17.110731",
      "version": "2.1.0"
    }
  },
  "cells": [
    {
      "cell_type": "markdown",
      "metadata": {
        "id": "view-in-github",
        "colab_type": "text"
      },
      "source": [
        "<a href=\"https://colab.research.google.com/github/PaulB86UK/Kaggle-Jane_Street/blob/main/Defloating_Analysis.ipynb\" target=\"_parent\"><img src=\"https://colab.research.google.com/assets/colab-badge.svg\" alt=\"Open In Colab\"/></a>"
      ]
    },
    {
      "cell_type": "markdown",
      "metadata": {
        "id": "Ra22b0rRhJUK"
      },
      "source": [
        "#Defloating Analysis"
      ]
    },
    {
      "cell_type": "code",
      "metadata": {
        "colab": {
          "base_uri": "https://localhost:8080/"
        },
        "id": "P06cYn9ANvVO",
        "outputId": "a9b6f641-f9b2-4719-af9f-475eded7f612"
      },
      "source": [
        "from google.colab import drive\n",
        "drive.mount('/content/drive')"
      ],
      "execution_count": 1,
      "outputs": [
        {
          "output_type": "stream",
          "text": [
            "Drive already mounted at /content/drive; to attempt to forcibly remount, call drive.mount(\"/content/drive\", force_remount=True).\n"
          ],
          "name": "stdout"
        }
      ]
    },
    {
      "cell_type": "code",
      "metadata": {
        "id": "nFhCbNBf2QIU"
      },
      "source": [
        "#Loading Data\n",
        "!pip install datatable\n",
        "!pip install -U keras-tuner\n",
        "import datatable as dt\n",
        "\n",
        "#Preprocessing & EDA\n",
        "import pandas as pd\n",
        "import numpy as np"
      ],
      "execution_count": null,
      "outputs": []
    },
    {
      "cell_type": "code",
      "metadata": {
        "id": "-IRhNpyNlAXD",
        "colab": {
          "base_uri": "https://localhost:8080/"
        },
        "outputId": "cee69787-b460-41bf-8c69-21e77c191478"
      },
      "source": [
        "#COLAB\n",
        "!unzip /content/drive/MyDrive/ORDENAR/JaneStreet/train.csv.zip \n",
        "train_dt = dt.fread(\"/content/train.csv\")\n",
        "train = train_dt.to_pandas()\n",
        "features = pd.read_csv(\"/content/drive/MyDrive/ORDENAR/JaneStreet/features.csv\")\n",
        "examples_test = pd.read_csv(\"/content/drive/MyDrive/ORDENAR/JaneStreet/example_test.csv\")\n",
        "example_sample_submission = pd.read_csv(\"/content/drive/MyDrive/ORDENAR/JaneStreet/example_sample_submission.csv\")\n"
      ],
      "execution_count": 6,
      "outputs": [
        {
          "output_type": "stream",
          "text": [
            "Archive:  /content/drive/MyDrive/ORDENAR/JaneStreet/train.csv.zip\n",
            "  inflating: train.csv               \n"
          ],
          "name": "stdout"
        }
      ]
    },
    {
      "cell_type": "markdown",
      "metadata": {
        "id": "y0KWi4obhshs"
      },
      "source": [
        "**Some Insights in memory usage and faster processing**\n",
        "\n",
        "So when pandas loads .csv files and encounters floats, it automatically makes them of data type float64.\n",
        "\n",
        "Since the data we are given only has a precision of six digits, float64 is overkill. Using float32 would still maintain all precision but saves half the memory size!\n",
        "\n",
        "For now using float16 for this analysis will be enough."
      ]
    },
    {
      "cell_type": "code",
      "metadata": {
        "colab": {
          "base_uri": "https://localhost:8080/"
        },
        "id": "1nL9oifYhwib",
        "outputId": "c002153b-3bd7-44e3-b5ad-1e6d03ab5b7f"
      },
      "source": [
        "\n",
        "print('float\\t\\t bytes')\n",
        "print(np.float64(-0.622475), '\\t', np.float64(-0.622475).nbytes)\n",
        "print(np.float32(-0.622475), '\\t', np.float32(-0.622475).nbytes)\n",
        "print(np.float16(-0.622475), '\\t', np.float16(-0.622475).nbytes)"
      ],
      "execution_count": 4,
      "outputs": [
        {
          "output_type": "stream",
          "text": [
            "float\t\t bytes\n",
            "-0.622475 \t 8\n",
            "-0.622475 \t 4\n",
            "-0.6226 \t 2\n"
          ],
          "name": "stdout"
        }
      ]
    },
    {
      "cell_type": "code",
      "metadata": {
        "id": "VQGfNYqglx4-"
      },
      "source": [
        "%%time\n",
        "PATH = \"/content/train.csv\"\n",
        "train = dt.fread(PATH).to_pandas().astype({c: np.float16 for c in train.select_dtypes(include='float64').columns})\n",
        "#Result memory crash"
      ],
      "execution_count": null,
      "outputs": []
    },
    {
      "cell_type": "code",
      "metadata": {
        "id": "SVZR37TFsf86"
      },
      "source": [
        "def defloatizar(df,value=32):\n",
        "  before = df.memory_usage().sum()\n",
        "  float64_cols = df.select_dtypes(include='float64').columns\n",
        "  \n",
        "  if value == 32:\n",
        "    mapper = {col_name: np.float32 for col_name in float64_cols}\n",
        "  if value == 16:\n",
        "    mapper = {col_name: np.float16 for col_name in float64_cols}\n",
        "  \n",
        "  df = df.astype({c: np.float16 for c in train.select_dtypes(include='float64').columns})\n",
        "  after = df.memory_usage().sum()\n",
        "  print(f\"Memory Usage Reduction = {((before - after)/before*100).round(3)} %\")  "
      ],
      "execution_count": 5,
      "outputs": []
    },
    {
      "cell_type": "code",
      "metadata": {
        "colab": {
          "base_uri": "https://localhost:8080/"
        },
        "id": "PjqCwQHXsjF-",
        "outputId": "5076c368-d999-402d-afa5-bfae577162d6"
      },
      "source": [
        "%%time\n",
        "train_dt = dt.fread(\"/content/train.csv\")\n",
        "train = train_dt.to_pandas()\n",
        "defloatizar(train,16)"
      ],
      "execution_count": 6,
      "outputs": [
        {
          "output_type": "stream",
          "text": [
            "Memory Usage Reduction = 74.176 %\n",
            "CPU times: user 40.8 s, sys: 10.6 s, total: 51.4 s\n",
            "Wall time: 1min 10s\n"
          ],
          "name": "stdout"
        }
      ]
    },
    {
      "cell_type": "code",
      "metadata": {
        "colab": {
          "base_uri": "https://localhost:8080/"
        },
        "id": "pkltNapatZMw",
        "outputId": "396201c8-ef18-47ba-fb5c-79bf7455a49d"
      },
      "source": [
        "%%time\n",
        "PATH = \"/content/train.csv\"\n",
        "train = pd.read_csv(PATH, dtype=np.float16)"
      ],
      "execution_count": 7,
      "outputs": [
        {
          "output_type": "stream",
          "text": [
            "CPU times: user 1min 27s, sys: 4.63 s, total: 1min 31s\n",
            "Wall time: 1min 39s\n"
          ],
          "name": "stdout"
        }
      ]
    },
    {
      "cell_type": "code",
      "metadata": {
        "colab": {
          "base_uri": "https://localhost:8080/"
        },
        "id": "NRRsfj_-wmmn",
        "outputId": "3d640b93-2ed3-4786-a196-8993bed83efa"
      },
      "source": [
        "%%time\n",
        "PATH = \"/content/train.csv\"\n",
        "train = pd.read_csv(PATH, dtype=np.float16, engine= 'c')"
      ],
      "execution_count": 15,
      "outputs": [
        {
          "output_type": "stream",
          "text": [
            "CPU times: user 1min 29s, sys: 5.47 s, total: 1min 35s\n",
            "Wall time: 1min 43s\n"
          ],
          "name": "stdout"
        }
      ]
    },
    {
      "cell_type": "code",
      "metadata": {
        "id": "pdeNPrQAs-gu"
      },
      "source": [
        "def defloatizarII(PATH,datatype = np.float32):\n",
        "  #check if dt is installed\n",
        "  df = dt.fread(PATH)\n",
        "  df = df.to_pandas()\n",
        "  df = df.astype({c: datatype for c in train.select_dtypes(include='float64').columns})\n",
        "  print(df.info())"
      ],
      "execution_count": 16,
      "outputs": []
    },
    {
      "cell_type": "code",
      "metadata": {
        "colab": {
          "base_uri": "https://localhost:8080/"
        },
        "id": "qY9bLa63u8Kl",
        "outputId": "964c13ea-59c4-4e06-9090-bf73bcfbe9a8"
      },
      "source": [
        "%%time\n",
        "PATH = \"/content/train.csv\"\n",
        "defloatizarII(\"/content/train.csv\",np.float16)"
      ],
      "execution_count": 17,
      "outputs": [
        {
          "output_type": "stream",
          "text": [
            "<class 'pandas.core.frame.DataFrame'>\n",
            "RangeIndex: 2390491 entries, 0 to 2390490\n",
            "Columns: 138 entries, date to ts_id\n",
            "dtypes: float64(135), int32(3)\n",
            "memory usage: 2.4 GB\n",
            "None\n",
            "CPU times: user 39.5 s, sys: 12.7 s, total: 52.2 s\n",
            "Wall time: 1min 6s\n"
          ],
          "name": "stdout"
        }
      ]
    }
  ]
}