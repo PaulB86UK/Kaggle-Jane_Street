{
  "nbformat": 4,
  "nbformat_minor": 0,
  "metadata": {
    "colab": {
      "name": "Kaggle to Colab",
      "provenance": [],
      "collapsed_sections": [],
      "authorship_tag": "ABX9TyP/7GEpEny2nVcIzUPhjlK/",
      "include_colab_link": true
    },
    "kernelspec": {
      "name": "python3",
      "display_name": "Python 3"
    }
  },
  "cells": [
    {
      "cell_type": "markdown",
      "metadata": {
        "id": "view-in-github",
        "colab_type": "text"
      },
      "source": [
        "<a href=\"https://colab.research.google.com/github/PaulB86UK/Kaggle-Jane_Street/blob/main/Kaggle_to_Colab.ipynb\" target=\"_parent\"><img src=\"https://colab.research.google.com/assets/colab-badge.svg\" alt=\"Open In Colab\"/></a>"
      ]
    },
    {
      "cell_type": "markdown",
      "metadata": {
        "id": "aadYwBzo_1cZ"
      },
      "source": [
        "From Kaggle to Colab -- Jane Street Competition"
      ]
    },
    {
      "cell_type": "code",
      "metadata": {
        "id": "g6jCiodI_xDT"
      },
      "source": [
        "# ----> NOTES:\n",
        "##Go to kaggle in settings get your json file, then you can just upload it, or save it to your google drive, and then connect to drive.\n",
        "##After that just use the following code, where on the left you use the location where the json was stored.\n",
        "!pip install -q kaggle\n",
        "!cp /content/drive/MyDrive/Kaggle/kaggle.json ~/.kaggle/kaggle.json\n",
        "!kaggle competitions download -c jane-street-market-prediction\n",
        "\n",
        "#Unzip files\n",
        "!unzip /content/drive/MyDrive/JaneStreet/train.csv.zip \n",
        "!unzip /content/drive/MyDrive/JaneStreet/example_test.csv.zip "
      ],
      "execution_count": null,
      "outputs": []
    }
  ]
}